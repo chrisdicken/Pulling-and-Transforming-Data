{
 "cells": [
  {
   "cell_type": "markdown",
   "metadata": {
    "run_control": {
     "marked": true
    }
   },
   "source": [
    "# SQL Analysis For A Well Known Lender\n",
    "\n",
    "Right before i joined my current company i completed a fun SQL test for a well know Lender in the UK. This section should help anyone looking to work with SQLite in Python. Keep reading to find out when most people default on their loans. \n",
    "\n",
    "Key Demonstation: Loading and cleaning a database in Python and SQL queries. "
   ]
  },
  {
   "cell_type": "code",
   "execution_count": 1,
   "metadata": {
    "run_control": {
     "marked": true
    }
   },
   "outputs": [],
   "source": [
    "import numpy as np\n",
    "import pandas as pd\n",
    "import sqlite3"
   ]
  },
  {
   "cell_type": "code",
   "execution_count": 6,
   "metadata": {
    "run_control": {
     "marked": true
    }
   },
   "outputs": [],
   "source": [
    "# Establish DB connection and clean\n",
    "conn = sqlite3.connect('example_loan_data.db')\n",
    "\n",
    "c = conn.cursor()\n",
    "\n",
    "conn.execute('VACUUM')\n",
    "conn.commit()\n"
   ]
  },
  {
   "cell_type": "code",
   "execution_count": 20,
   "metadata": {},
   "outputs": [
    {
     "name": "stdout",
     "output_type": "stream",
     "text": [
      "   COUNT(*)\n",
      "0     83489\n",
      "                    name\n",
      "0              loan_book\n",
      "1  default_rate_estimate\n",
      "  market   Amount  Term_nMonths  Annual_interest_rate  \\\n",
      "0      B  10000.0            60                0.0997   \n",
      "1     A1   7500.0            48                0.0302   \n",
      "2     A2  15000.0            60                0.0790   \n",
      "3     A2  10000.0            48                0.0647   \n",
      "4     C1   5000.0            36                0.0946   \n",
      "\n",
      "            Date_of_disbursal Date_of_default  Declared_income  \\\n",
      "0  2016-04-04 09:20:04.903000            None          66318.0   \n",
      "1  2016-04-06 12:00:43.360000            None          36000.0   \n",
      "2  2016-04-05 11:12:03.257000            None          35000.0   \n",
      "3  2016-10-31 11:04:04.047000            None          37626.0   \n",
      "4  2016-11-01 16:38:58.930000            None          23460.0   \n",
      "\n",
      "               loan_id            member_id  \n",
      "0  6291910946835746176  5952682155246103118  \n",
      "1 -2243521942468637182 -3855500498482240246  \n",
      "2  4840418347660553669  -231649900945987447  \n",
      "3 -4920937880632372839  4359975814604347782  \n",
      "4  2518499440406368095  6191889373978101367  \n",
      "  market  Term_nMonths  Annual_default_rate_estimate\n",
      "0     A*            12                       0.00344\n",
      "1     A*            24                       0.00345\n",
      "2     A*            36                       0.00303\n",
      "3     A*            48                       0.00356\n",
      "4     A*            60                       0.00446\n"
     ]
    }
   ],
   "source": [
    "# verify count and schemas\n",
    "sqlite_query = \"\"\"\n",
    "SELECT COUNT(*)\n",
    "FROM loan_book\n",
    "\"\"\"\n",
    "sqlite_query2 = \"\"\"\n",
    "SELECT name from sqlite_master where type= \"table\"\n",
    "\"\"\"\n",
    "sqlite_query3 = \"\"\"\n",
    "SELECT * \n",
    "from loan_book \n",
    "LIMIT 1000\n",
    "\"\"\"\n",
    "sqlite_query4 = \"\"\"\n",
    "SELECT * \n",
    "from default_rate_estimate\n",
    "\"\"\"\n",
    "\n",
    "print(pd.read_sql(sqlite_query, conn))\n",
    "print(pd.read_sql(sqlite_query2, conn))\n",
    "print(pd.read_sql(sqlite_query3, conn).head())\n",
    "print(pd.read_sql(sqlite_query4, conn).head())"
   ]
  },
  {
   "cell_type": "markdown",
   "metadata": {
    "run_control": {
     "marked": true
    }
   },
   "source": [
    "## 1. How many loans are there in each market?"
   ]
  },
  {
   "cell_type": "code",
   "execution_count": 9,
   "metadata": {
    "run_control": {
     "marked": true
    }
   },
   "outputs": [
    {
     "data": {
      "text/html": [
       "<div>\n",
       "<style scoped>\n",
       "    .dataframe tbody tr th:only-of-type {\n",
       "        vertical-align: middle;\n",
       "    }\n",
       "\n",
       "    .dataframe tbody tr th {\n",
       "        vertical-align: top;\n",
       "    }\n",
       "\n",
       "    .dataframe thead th {\n",
       "        text-align: right;\n",
       "    }\n",
       "</style>\n",
       "<table border=\"1\" class=\"dataframe\">\n",
       "  <thead>\n",
       "    <tr style=\"text-align: right;\">\n",
       "      <th></th>\n",
       "      <th>Unique_markets</th>\n",
       "      <th>Loans_per_market</th>\n",
       "    </tr>\n",
       "  </thead>\n",
       "  <tbody>\n",
       "    <tr>\n",
       "      <th>0</th>\n",
       "      <td>A*</td>\n",
       "      <td>18963</td>\n",
       "    </tr>\n",
       "    <tr>\n",
       "      <th>1</th>\n",
       "      <td>A1</td>\n",
       "      <td>11069</td>\n",
       "    </tr>\n",
       "    <tr>\n",
       "      <th>2</th>\n",
       "      <td>A2</td>\n",
       "      <td>11249</td>\n",
       "    </tr>\n",
       "    <tr>\n",
       "      <th>3</th>\n",
       "      <td>B</td>\n",
       "      <td>11878</td>\n",
       "    </tr>\n",
       "    <tr>\n",
       "      <th>4</th>\n",
       "      <td>C1</td>\n",
       "      <td>14133</td>\n",
       "    </tr>\n",
       "    <tr>\n",
       "      <th>5</th>\n",
       "      <td>D</td>\n",
       "      <td>9810</td>\n",
       "    </tr>\n",
       "    <tr>\n",
       "      <th>6</th>\n",
       "      <td>E</td>\n",
       "      <td>6368</td>\n",
       "    </tr>\n",
       "  </tbody>\n",
       "</table>\n",
       "</div>"
      ],
      "text/plain": [
       "  Unique_markets  Loans_per_market\n",
       "0             A*             18963\n",
       "1             A1             11069\n",
       "2             A2             11249\n",
       "3              B             11878\n",
       "4             C1             14133\n",
       "5              D              9810\n",
       "6              E              6368"
      ]
     },
     "execution_count": 9,
     "metadata": {},
     "output_type": "execute_result"
    }
   ],
   "source": [
    "sqlite_query = \"\"\"\n",
    "SELECT market AS Unique_markets, COUNT(market) AS Loans_per_market\n",
    "FROM loan_book\n",
    "GROUP BY market\n",
    "\"\"\"\n",
    "\n",
    "pd.read_sql(sqlite_query, conn)"
   ]
  },
  {
   "cell_type": "markdown",
   "metadata": {
    "run_control": {
     "marked": true
    }
   },
   "source": [
    "## 2. Find the top 3 calendar months on the loan book that have highest average values of estimated annual default rate\n",
    "\n",
    "Looks like most people default on loans at Christmas. "
   ]
  },
  {
   "cell_type": "code",
   "execution_count": 10,
   "metadata": {
    "run_control": {
     "marked": true
    }
   },
   "outputs": [
    {
     "data": {
      "text/html": [
       "<div>\n",
       "<style scoped>\n",
       "    .dataframe tbody tr th:only-of-type {\n",
       "        vertical-align: middle;\n",
       "    }\n",
       "\n",
       "    .dataframe tbody tr th {\n",
       "        vertical-align: top;\n",
       "    }\n",
       "\n",
       "    .dataframe thead th {\n",
       "        text-align: right;\n",
       "    }\n",
       "</style>\n",
       "<table border=\"1\" class=\"dataframe\">\n",
       "  <thead>\n",
       "    <tr style=\"text-align: right;\">\n",
       "      <th></th>\n",
       "      <th>Calender_Month</th>\n",
       "      <th>Average_Annual_Default_Rate</th>\n",
       "    </tr>\n",
       "  </thead>\n",
       "  <tbody>\n",
       "    <tr>\n",
       "      <th>0</th>\n",
       "      <td>12</td>\n",
       "      <td>0.061691</td>\n",
       "    </tr>\n",
       "    <tr>\n",
       "      <th>1</th>\n",
       "      <td>11</td>\n",
       "      <td>0.060038</td>\n",
       "    </tr>\n",
       "    <tr>\n",
       "      <th>2</th>\n",
       "      <td>09</td>\n",
       "      <td>0.056131</td>\n",
       "    </tr>\n",
       "  </tbody>\n",
       "</table>\n",
       "</div>"
      ],
      "text/plain": [
       "  Calender_Month  Average_Annual_Default_Rate\n",
       "0             12                     0.061691\n",
       "1             11                     0.060038\n",
       "2             09                     0.056131"
      ]
     },
     "execution_count": 10,
     "metadata": {},
     "output_type": "execute_result"
    }
   ],
   "source": [
    "sqlite_query = \"\"\"\n",
    "SELECT strftime('%m', loan_book.Date_of_disbursal) AS Calender_Month, AVG(default_rate_estimate.Annual_default_rate_estimate) AS Average_Annual_Default_Rate\n",
    "FROM loan_book\n",
    "INNER JOIN default_rate_estimate\n",
    "ON default_rate_estimate.market = loan_book.market and default_rate_estimate.Term_nMonths = loan_book.Term_nMonths\n",
    "GROUP BY strftime('%m', loan_book.Date_of_disbursal)\n",
    "ORDER BY Average_Annual_Default_Rate DESC\n",
    "LIMIT 3\n",
    "\"\"\"\n",
    "\n",
    "pd.read_sql(sqlite_query, conn)"
   ]
  },
  {
   "cell_type": "markdown",
   "metadata": {
    "run_control": {
     "marked": true
    }
   },
   "source": [
    "## 3. Based on the loan book, what is the average of estimated annual default rate in each market? Compare this with the actual default rate within the first year from disbursal using the loan book.\n",
    "\n",
    "Hint: the date_of_default column indicates whether the loan has actually defaulted and when it happened"
   ]
  },
  {
   "cell_type": "code",
   "execution_count": 11,
   "metadata": {
    "run_control": {
     "marked": true
    },
    "scrolled": true
   },
   "outputs": [
    {
     "data": {
      "text/html": [
       "<div>\n",
       "<style scoped>\n",
       "    .dataframe tbody tr th:only-of-type {\n",
       "        vertical-align: middle;\n",
       "    }\n",
       "\n",
       "    .dataframe tbody tr th {\n",
       "        vertical-align: top;\n",
       "    }\n",
       "\n",
       "    .dataframe thead th {\n",
       "        text-align: right;\n",
       "    }\n",
       "</style>\n",
       "<table border=\"1\" class=\"dataframe\">\n",
       "  <thead>\n",
       "    <tr style=\"text-align: right;\">\n",
       "      <th></th>\n",
       "      <th>Market</th>\n",
       "      <th>AVG_Estimated_Annual_Defualt</th>\n",
       "      <th>Actual_Default_Rate_Within_First_Year</th>\n",
       "    </tr>\n",
       "  </thead>\n",
       "  <tbody>\n",
       "    <tr>\n",
       "      <th>0</th>\n",
       "      <td>A*</td>\n",
       "      <td>0.003761</td>\n",
       "      <td>0.000896</td>\n",
       "    </tr>\n",
       "    <tr>\n",
       "      <th>1</th>\n",
       "      <td>A1</td>\n",
       "      <td>0.011284</td>\n",
       "      <td>0.004156</td>\n",
       "    </tr>\n",
       "    <tr>\n",
       "      <th>2</th>\n",
       "      <td>A2</td>\n",
       "      <td>0.021466</td>\n",
       "      <td>0.008801</td>\n",
       "    </tr>\n",
       "    <tr>\n",
       "      <th>3</th>\n",
       "      <td>B</td>\n",
       "      <td>0.041078</td>\n",
       "      <td>0.019027</td>\n",
       "    </tr>\n",
       "    <tr>\n",
       "      <th>4</th>\n",
       "      <td>C1</td>\n",
       "      <td>0.071021</td>\n",
       "      <td>0.037006</td>\n",
       "    </tr>\n",
       "    <tr>\n",
       "      <th>5</th>\n",
       "      <td>D</td>\n",
       "      <td>0.145736</td>\n",
       "      <td>0.060143</td>\n",
       "    </tr>\n",
       "    <tr>\n",
       "      <th>6</th>\n",
       "      <td>E</td>\n",
       "      <td>0.152952</td>\n",
       "      <td>0.096891</td>\n",
       "    </tr>\n",
       "  </tbody>\n",
       "</table>\n",
       "</div>"
      ],
      "text/plain": [
       "  Market  AVG_Estimated_Annual_Defualt  Actual_Default_Rate_Within_First_Year\n",
       "0     A*                      0.003761                               0.000896\n",
       "1     A1                      0.011284                               0.004156\n",
       "2     A2                      0.021466                               0.008801\n",
       "3      B                      0.041078                               0.019027\n",
       "4     C1                      0.071021                               0.037006\n",
       "5      D                      0.145736                               0.060143\n",
       "6      E                      0.152952                               0.096891"
      ]
     },
     "execution_count": 11,
     "metadata": {},
     "output_type": "execute_result"
    }
   ],
   "source": [
    "sqlite_query = \"\"\"\n",
    "/* Find average estimated annual defualt rate */\n",
    "SELECT loan_book.market AS Market, AVG(default_rate_estimate.Annual_default_rate_estimate) AS AVG_Estimated_Annual_Defualt, sum(a.Total_defualts_within_1year +0.00000) / sum(b.Total_Loans2016 +0.00000) AS Actual_Default_Rate_Within_First_Year\n",
    "FROM loan_book\n",
    "\n",
    "INNER JOIN default_rate_estimate\n",
    "ON default_rate_estimate.market = loan_book.market and default_rate_estimate.Term_nMonths = loan_book.Term_nMonths\n",
    "\n",
    "INNER JOIN\n",
    "\n",
    "/*Use julianday to find the number of defualts within 365 days of disbursal */\n",
    "(SELECT COUNT(Date_of_default) AS Total_defualts_within_1year, market\n",
    "FROM loan_book\n",
    "WHERE julianday(Date_of_default) <= julianday(Date_of_disbursal) + 365\n",
    "GROUP BY market) as a\n",
    "ON a.market = loan_book.market\n",
    "\n",
    "INNER JOIN\n",
    "\n",
    "/*Find total loans in 2016 */\n",
    "(SELECT COUNT(Date_of_disbursal) AS Total_Loans2016, market\n",
    "FROM loan_book\n",
    "GROUP BY market) as b\n",
    "ON b.market = loan_book.market\n",
    "\n",
    "GROUP BY loan_book.market\n",
    "\"\"\"\n",
    "\n",
    "pd.read_sql(sqlite_query, conn)\n",
    "\n",
    "\n"
   ]
  },
  {
   "cell_type": "markdown",
   "metadata": {
    "run_control": {
     "marked": true
    }
   },
   "source": [
    "## 4. How many of these repeat borrowers got a new loan with a lower interest rate than their previous loan?"
   ]
  },
  {
   "cell_type": "code",
   "execution_count": 13,
   "metadata": {
    "run_control": {
     "marked": true
    }
   },
   "outputs": [
    {
     "name": "stdout",
     "output_type": "stream",
     "text": [
      "841\n"
     ]
    }
   ],
   "source": [
    "\n",
    "sqlite_queryA = \"\"\"\n",
    "SELECT member_id, Annual_interest_rate, Date_of_disbursal\n",
    "FROM loan_book\n",
    "WHERE member_id IN \n",
    "(SELECT member_id\n",
    "FROM loan_book\n",
    "GROUP BY member_id\n",
    "HAVING COUNT(*) > 1)\n",
    "ORDER BY member_id, Date_of_disbursal DESC\n",
    "\n",
    "\"\"\"\n",
    "\n",
    "A = pd.read_sql(sqlite_queryA, conn)\n",
    "NEW = A.groupby(\"member_id\").first() #Selects newest interest rate\n",
    "OLD = A.groupby(\"member_id\").nth(1) #Selects previous interest rate\n",
    "mask = NEW[\"Annual_interest_rate\"].values < OLD[\"Annual_interest_rate\"].values #Boolean array with lower interest rates = TRUE\n",
    "print(sum(mask))"
   ]
  }
 ],
 "metadata": {
  "kernelspec": {
   "display_name": "Python 3",
   "language": "python",
   "name": "python3"
  },
  "language_info": {
   "codemirror_mode": {
    "name": "ipython",
    "version": 3
   },
   "file_extension": ".py",
   "mimetype": "text/x-python",
   "name": "python",
   "nbconvert_exporter": "python",
   "pygments_lexer": "ipython3",
   "version": "3.7.4"
  },
  "toc": {
   "colors": {
    "hover_highlight": "#DAA520",
    "running_highlight": "#FF0000",
    "selected_highlight": "#FFD700"
   },
   "moveMenuLeft": true,
   "nav_menu": {},
   "navigate_menu": true,
   "number_sections": true,
   "sideBar": true,
   "skip_h1_title": false,
   "threshold": 4,
   "toc_cell": false,
   "toc_position": {
    "height": "977px",
    "left": "0px",
    "right": "1457.01px",
    "top": "107px",
    "width": "214px"
   },
   "toc_section_display": "block",
   "toc_window_display": true
  }
 },
 "nbformat": 4,
 "nbformat_minor": 4
}
