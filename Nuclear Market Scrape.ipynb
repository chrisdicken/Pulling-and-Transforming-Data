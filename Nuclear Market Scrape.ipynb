{
 "cells": [
  {
   "cell_type": "markdown",
   "metadata": {},
   "source": [
    "# Nuclear Market Scrape\n",
    "\n",
    "Finding opportunities in the specialised field of Nuclear Monitoring is a little different from the normal marketing campaigns of large software providers or cloud hosting giants but there is one place a manufacturer could scour to find potential new business: https://www.nuclearmarket.com/.\n",
    "\n",
    "Unfortunately, many things fell under the radar and it was a full-time job to keep up to date. So, during my time as a Sales Engineer I wrote this script which would scrape all relevant opportunities based on our search criteria which I could then validate and send to our sales team. \n",
    "\n",
    "Key Demonstration: Scraping web data, working with html tagging, cleaning and filtering data, regular expressions, lambda functions"
   ]
  },
  {
   "cell_type": "code",
   "execution_count": 37,
   "metadata": {},
   "outputs": [
    {
     "data": {
      "text/plain": [
       "20    [RADIATION EXPERIMENT KIT FOR NUCLEAR SCIENCE TECHNOLOGY EDUCATION (10 COUNTRIES)]                                                                                                                                       \n",
       "23    [HAND-FOOT-CLOTHES CONTAMINATION MONITORS]                                                                                                                                                                               \n",
       "29    [PLASMA EQUIPMENT MONITORING SYSTEM DEVELOPMENT, I&AMP;C, DATA ACQUISITION SYSTEM]                                                                                                                                       \n",
       "36    [DEDICATED MULTICHANNEL ANALYZER &AMP; SHIELDED SODIUM IODIDE DETECTOR]                                                                                                                                                  \n",
       "37    [MULTI CHANNEL ANALYSER [TO BE USED IN CONNECTION TO HIGH PURITY GERMANIUM, SILICON, CADMIUM ZINC TELLURIDE AND SCINTILLATOR DETECTORS] ]                                                                                \n",
       "42    [FABRICATION AND SUPPLY OF LEAD BLOCKS FOR RADIATION SHIELDING]                                                                                                                                                          \n",
       "44    [MAGNOX SITES - REPLACEMENT OF RADIOLOGICAL SYSTEMS [WHOLE BODY MONITORS, SUB-CHANGE ROOM (OR PRE-EXIT) BODY MONITORS, HAND &AMP; FOOT MONITORS, SMALL ARTICLE MONITORS, BAG MONITORS, GAMMA SPECTROSCOPY DETECTORS ETC]]\n",
       "46    [HANDHELD GAMMA MEASUREMENT DEVICE]                                                                                                                                                                                      \n",
       "49    [CLOUD CHAMBERS FOR NUCLEAR SCIENCE AND TECHNOLOGY EDUCATION (10 COUNTRIES)]                                                                                                                                             \n",
       "58    [AIR POLLUTION MONITORING OR MEASUREMENT SERVICES [RADON DOSIMETERS, RADON MEASUREMENTS SUPPORT]]                                                                                                                        \n",
       "Name: 0, dtype: object"
      ]
     },
     "execution_count": 37,
     "metadata": {},
     "output_type": "execute_result"
    }
   ],
   "source": [
    "import re\n",
    "import pandas as pd\n",
    "import numpy as np\n",
    "import requests\n",
    "from bs4 import BeautifulSoup\n",
    "pd.set_option('display.max_colwidth', -1)\n",
    "\n",
    "#Grab HTML from website\n",
    "response = requests.get(\"https://www.nuclearmarket.com/proc/ListProc1.cfm\")\n",
    "\n",
    "#import into HTML manager BeautifulSoup\n",
    "soup = BeautifulSoup(response.text, \"lxml\" )\n",
    "\n",
    "#Create empty DataFrame (table)\n",
    "df = pd.DataFrame(np.empty(60))\n",
    "\n",
    "#Find all HTML with HTML tag \"a\", these are the opportinuty titles, store in our DataFrame\n",
    "for counter, i in enumerate(soup.find_all(\"a\")):\n",
    "   df.loc[counter,0] = str(i.contents)\n",
    "\n",
    "#convert to upper for cleaning\n",
    "df_upper = df.apply(lambda x: x.astype(str).str.upper())\n",
    "\n",
    "#What title keywords do we want to filter for?\n",
    "keywords = ['DOSIMETERS','DETECTOR','RADIATION','MONITORING','GEIGER','FISSION','CHAMBER','MONITOR','ULTRA','TUBE','CABLE','NEUTRON','ALPHA','BETA','GAMMA','PHOTON']\n",
    "\n",
    "find = df_upper[0].str.contains('|'.join(keywords))\n",
    "Centronic_opportinuties = df_upper[find]\n",
    "\n",
    "#clean HTML\n",
    "def cleanhtml(raw_html):\n",
    "  cleanr = re.compile('<.*?>')\n",
    "  cleantext = re.sub(cleanr, '', raw_html)\n",
    "  return cleantext\n",
    "\n",
    "Centronic_opportinuties = Centronic_opportinuties.iloc[:,0].apply(cleanhtml)\n",
    "\n",
    "#print opportinuties \n",
    "Centronic_opportinuties"
   ]
  }
 ],
 "metadata": {
  "kernelspec": {
   "display_name": "Python 3",
   "language": "python",
   "name": "python3"
  },
  "language_info": {
   "codemirror_mode": {
    "name": "ipython",
    "version": 3
   },
   "file_extension": ".py",
   "mimetype": "text/x-python",
   "name": "python",
   "nbconvert_exporter": "python",
   "pygments_lexer": "ipython3",
   "version": "3.7.4"
  }
 },
 "nbformat": 4,
 "nbformat_minor": 4
}
